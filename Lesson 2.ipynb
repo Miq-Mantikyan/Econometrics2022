{
 "cells": [
  {
   "cell_type": "markdown",
   "id": "7a10ea34",
   "metadata": {},
   "source": [
    "# list, find the length, find elements between the second element and the 3rd from the end, use append, use remove"
   ]
  },
  {
   "cell_type": "code",
   "execution_count": 1,
   "id": "94ac97b2",
   "metadata": {},
   "outputs": [
    {
     "data": {
      "text/plain": [
       "10"
      ]
     },
     "execution_count": 1,
     "metadata": {},
     "output_type": "execute_result"
    }
   ],
   "source": [
    "list_1 = [10, 50, 100, 1000, 5000, 10000, 10, 9, 8, 7]\n",
    "len(list_1)"
   ]
  },
  {
   "cell_type": "code",
   "execution_count": 3,
   "id": "0fbe90ba",
   "metadata": {},
   "outputs": [
    {
     "name": "stdout",
     "output_type": "stream",
     "text": [
      "[100, 1000, 5000, 10000, 10]\n"
     ]
    }
   ],
   "source": [
    "print(list_1[2:-3])"
   ]
  },
  {
   "cell_type": "code",
   "execution_count": 6,
   "id": "6686aa31",
   "metadata": {},
   "outputs": [],
   "source": [
    "list_1.append(\"hello\") "
   ]
  },
  {
   "cell_type": "code",
   "execution_count": 7,
   "id": "1e3349ab",
   "metadata": {},
   "outputs": [
    {
     "data": {
      "text/plain": [
       "[10, 50, 100, 1000, 5000, 10000, 10, 9, 8, 7, 'hello', 'hello']"
      ]
     },
     "execution_count": 7,
     "metadata": {},
     "output_type": "execute_result"
    }
   ],
   "source": [
    "list_1"
   ]
  },
  {
   "cell_type": "code",
   "execution_count": 8,
   "id": "afe5a9bb",
   "metadata": {},
   "outputs": [],
   "source": [
    "list_1.remove(1000)"
   ]
  },
  {
   "cell_type": "code",
   "execution_count": 9,
   "id": "66e789c8",
   "metadata": {},
   "outputs": [
    {
     "data": {
      "text/plain": [
       "[10, 50, 100, 5000, 10000, 10, 9, 8, 7, 'hello', 'hello']"
      ]
     },
     "execution_count": 9,
     "metadata": {},
     "output_type": "execute_result"
    }
   ],
   "source": [
    "list_1"
   ]
  },
  {
   "cell_type": "code",
   "execution_count": null,
   "id": "f29b2659",
   "metadata": {},
   "outputs": [],
   "source": []
  }
 ],
 "metadata": {
  "kernelspec": {
   "display_name": "Python 3 (ipykernel)",
   "language": "python",
   "name": "python3"
  },
  "language_info": {
   "codemirror_mode": {
    "name": "ipython",
    "version": 3
   },
   "file_extension": ".py",
   "mimetype": "text/x-python",
   "name": "python",
   "nbconvert_exporter": "python",
   "pygments_lexer": "ipython3",
   "version": "3.9.7"
  }
 },
 "nbformat": 4,
 "nbformat_minor": 5
}
