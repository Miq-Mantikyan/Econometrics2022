{
 "cells": [
  {
   "cell_type": "markdown",
   "id": "20f0a28a",
   "metadata": {},
   "source": [
    "# declare list with any types of elements and use if-else and if-elif-else to get the result of your condition"
   ]
  },
  {
   "cell_type": "code",
   "execution_count": 1,
   "id": "7f999fd2",
   "metadata": {},
   "outputs": [],
   "source": [
    "list_1 = [1, 2, 3, 4, 5, 10, 20, 50, 100]"
   ]
  },
  {
   "cell_type": "code",
   "execution_count": 2,
   "id": "145f5b07",
   "metadata": {},
   "outputs": [
    {
     "name": "stdout",
     "output_type": "stream",
     "text": [
      "not in the list\n"
     ]
    }
   ],
   "source": [
    "if 500 in list_1:\n",
    "    print(500)\n",
    "else:\n",
    "    print(\"not in the list\")"
   ]
  },
  {
   "cell_type": "code",
   "execution_count": 3,
   "id": "5f0f06e2",
   "metadata": {},
   "outputs": [
    {
     "data": {
      "text/plain": [
       "195"
      ]
     },
     "execution_count": 3,
     "metadata": {},
     "output_type": "execute_result"
    }
   ],
   "source": [
    "sum(list_1)"
   ]
  },
  {
   "cell_type": "code",
   "execution_count": 4,
   "id": "5a8f26ea",
   "metadata": {},
   "outputs": [
    {
     "name": "stdout",
     "output_type": "stream",
     "text": [
      "The sum is not within 0-150\n"
     ]
    }
   ],
   "source": [
    "if sum(list_1) == 0:\n",
    "    print(\"The sum of elements is zero\")\n",
    "elif sum(list_1) < 150:\n",
    "    print(\"The sum is less than 150\")\n",
    "else:\n",
    "    print(\"The sum is not within 0-150\")\n",
    "    "
   ]
  },
  {
   "cell_type": "code",
   "execution_count": null,
   "id": "ce79ec53",
   "metadata": {},
   "outputs": [],
   "source": []
  }
 ],
 "metadata": {
  "kernelspec": {
   "display_name": "Python 3 (ipykernel)",
   "language": "python",
   "name": "python3"
  },
  "language_info": {
   "codemirror_mode": {
    "name": "ipython",
    "version": 3
   },
   "file_extension": ".py",
   "mimetype": "text/x-python",
   "name": "python",
   "nbconvert_exporter": "python",
   "pygments_lexer": "ipython3",
   "version": "3.9.7"
  }
 },
 "nbformat": 4,
 "nbformat_minor": 5
}
